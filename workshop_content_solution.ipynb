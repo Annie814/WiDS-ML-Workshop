{
 "cells": [
  {
   "cell_type": "markdown",
   "id": "9c7d1901-79b7-489e-9e0f-1c562cca352d",
   "metadata": {
    "slideshow": {
     "slide_type": "slide"
    },
    "tags": []
   },
   "source": [
    "# WiDS Intro to ML"
   ]
  },
  {
   "cell_type": "code",
   "execution_count": 47,
   "id": "a10873b1-8fd8-4753-8757-7b15040e78dd",
   "metadata": {
    "slideshow": {
     "slide_type": "notes"
    }
   },
   "outputs": [],
   "source": [
    "from sklearn import datasets\n",
    "import pandas as pd #Import the pandas library: Pandas is a Python library for data analysis.\n",
    "from sklearn.metrics import accuracy_score\n",
    "from sklearn.model_selection import train_test_split\n",
    "from sklearn.tree import DecisionTreeClassifier # import the class DecisionTreeClassifier which implements the decision tree classifier\n",
    "\n",
    "%matplotlib inline\n",
    "import sys"
   ]
  },
  {
   "cell_type": "markdown",
   "id": "2bf2ff4b",
   "metadata": {},
   "source": [
    "## Data Source:\n",
    "- Suppose we are working on a Spotify Song recommendation system, we want to predict if a customer will like a given song or not based on the song's features.\n",
    "\n",
    "- Data Description:\n",
    "> A dataset of 2017 songs with attributes from Spotify's API. Each song is labeled \"1\" meaning I like it and \"0\" for songs I don't like. Let's build a classifier that could predict whether or not I would like a song. \n",
    "\n",
    "> The original dataset can be found here: \n",
    "https://www.kaggle.com/datasets/geomack/spotifyclassification\n",
    "\n",
    "<div>\n",
    "<img src=\"dataset-cover.jpeg\" width=\"600\"/>\n",
    "</div>"
   ]
  },
  {
   "cell_type": "markdown",
   "id": "301b77b3-a8e6-4efc-8f17-b36bc96c6be9",
   "metadata": {
    "slideshow": {
     "slide_type": "fragment"
    }
   },
   "source": [
    "## Step 1: we will import the data using Panda's read_csv() function:\n",
    "- In the bracket, you must include the file path of the data.\n",
    "    - *Note: index_col=0, indicates what column of the csv to use as the indexes (row labels) of the dataframe. If the dataset doesn't have an id column, You generally don't have to specify that.*"
   ]
  },
  {
   "cell_type": "code",
   "execution_count": 48,
   "outputs": [
    {
     "data": {
      "text/plain": "   acousticness  danceability  duration_ms  energy  instrumentalness  key  \\\n0        0.0102         0.833       204600   0.434          0.021900    2   \n1        0.1990         0.743       326933   0.359          0.006110    1   \n2        0.0344         0.838       185707   0.412          0.000234    2   \n3        0.6040         0.494       199413   0.338          0.510000    5   \n4        0.1800         0.678       392893   0.561          0.512000    5   \n\n   liveness  loudness  mode  speechiness    tempo  time_signature  valence  \\\n0    0.1650    -8.795     1       0.4310  150.062             4.0    0.286   \n1    0.1370   -10.401     1       0.0794  160.083             4.0    0.588   \n2    0.1590    -7.148     1       0.2890   75.044             4.0    0.173   \n3    0.0922   -15.236     1       0.0261   86.468             4.0    0.230   \n4    0.4390   -11.648     0       0.0694  174.004             4.0    0.904   \n\n   target      song_title            artist  \n0       1        Mask Off            Future  \n1       1         Redbone  Childish Gambino  \n2       1    Xanny Family            Future  \n3       1  Master Of None       Beach House  \n4       1  Parallel Lines       Junior Boys  ",
      "text/html": "<div>\n<style scoped>\n    .dataframe tbody tr th:only-of-type {\n        vertical-align: middle;\n    }\n\n    .dataframe tbody tr th {\n        vertical-align: top;\n    }\n\n    .dataframe thead th {\n        text-align: right;\n    }\n</style>\n<table border=\"1\" class=\"dataframe\">\n  <thead>\n    <tr style=\"text-align: right;\">\n      <th></th>\n      <th>acousticness</th>\n      <th>danceability</th>\n      <th>duration_ms</th>\n      <th>energy</th>\n      <th>instrumentalness</th>\n      <th>key</th>\n      <th>liveness</th>\n      <th>loudness</th>\n      <th>mode</th>\n      <th>speechiness</th>\n      <th>tempo</th>\n      <th>time_signature</th>\n      <th>valence</th>\n      <th>target</th>\n      <th>song_title</th>\n      <th>artist</th>\n    </tr>\n  </thead>\n  <tbody>\n    <tr>\n      <th>0</th>\n      <td>0.0102</td>\n      <td>0.833</td>\n      <td>204600</td>\n      <td>0.434</td>\n      <td>0.021900</td>\n      <td>2</td>\n      <td>0.1650</td>\n      <td>-8.795</td>\n      <td>1</td>\n      <td>0.4310</td>\n      <td>150.062</td>\n      <td>4.0</td>\n      <td>0.286</td>\n      <td>1</td>\n      <td>Mask Off</td>\n      <td>Future</td>\n    </tr>\n    <tr>\n      <th>1</th>\n      <td>0.1990</td>\n      <td>0.743</td>\n      <td>326933</td>\n      <td>0.359</td>\n      <td>0.006110</td>\n      <td>1</td>\n      <td>0.1370</td>\n      <td>-10.401</td>\n      <td>1</td>\n      <td>0.0794</td>\n      <td>160.083</td>\n      <td>4.0</td>\n      <td>0.588</td>\n      <td>1</td>\n      <td>Redbone</td>\n      <td>Childish Gambino</td>\n    </tr>\n    <tr>\n      <th>2</th>\n      <td>0.0344</td>\n      <td>0.838</td>\n      <td>185707</td>\n      <td>0.412</td>\n      <td>0.000234</td>\n      <td>2</td>\n      <td>0.1590</td>\n      <td>-7.148</td>\n      <td>1</td>\n      <td>0.2890</td>\n      <td>75.044</td>\n      <td>4.0</td>\n      <td>0.173</td>\n      <td>1</td>\n      <td>Xanny Family</td>\n      <td>Future</td>\n    </tr>\n    <tr>\n      <th>3</th>\n      <td>0.6040</td>\n      <td>0.494</td>\n      <td>199413</td>\n      <td>0.338</td>\n      <td>0.510000</td>\n      <td>5</td>\n      <td>0.0922</td>\n      <td>-15.236</td>\n      <td>1</td>\n      <td>0.0261</td>\n      <td>86.468</td>\n      <td>4.0</td>\n      <td>0.230</td>\n      <td>1</td>\n      <td>Master Of None</td>\n      <td>Beach House</td>\n    </tr>\n    <tr>\n      <th>4</th>\n      <td>0.1800</td>\n      <td>0.678</td>\n      <td>392893</td>\n      <td>0.561</td>\n      <td>0.512000</td>\n      <td>5</td>\n      <td>0.4390</td>\n      <td>-11.648</td>\n      <td>0</td>\n      <td>0.0694</td>\n      <td>174.004</td>\n      <td>4.0</td>\n      <td>0.904</td>\n      <td>1</td>\n      <td>Parallel Lines</td>\n      <td>Junior Boys</td>\n    </tr>\n  </tbody>\n</table>\n</div>"
     },
     "execution_count": 48,
     "metadata": {},
     "output_type": "execute_result"
    }
   ],
   "source": [
    "spotify_df = pd.read_csv(\"data.csv\", index_col = 0)\n",
    "spotify_df.head()"
   ],
   "metadata": {
    "collapsed": false
   }
  },
  {
   "cell_type": "markdown",
   "source": [
    "Now we split the dataset into train and test sets:\n",
    "> We divide our data into training and test set in the ratio 80:20 respectively (i.e if your input dataset has 100 rows, training data will be 80 rows randomly selected from the input, and test set will have the remaining 20 rows)."
   ],
   "metadata": {
    "collapsed": false
   }
  },
  {
   "cell_type": "markdown",
   "source": [
    "### Golden Rule of Machine Learning\n",
    "\n",
    "Never mix training and test data together. Always isolate the test set, so that we can use the test set to make prediction and evaluate our model.\n",
    "> You can think of `train_df` as the Practice exams & `test_df` as the FINAL exam.\n",
    "\n",
    "Now lets look at some code:\n"
   ],
   "metadata": {
    "collapsed": false
   }
  },
  {
   "cell_type": "code",
   "execution_count": 49,
   "outputs": [],
   "source": [
    "#train_df will contain 80% of the input data, test_df will contain 20% of the input data (flights_df)\n",
    "train_df, test_df = train_test_split(spotify_df, test_size=0.2)"
   ],
   "metadata": {
    "collapsed": false
   }
  },
  {
   "cell_type": "code",
   "execution_count": 50,
   "outputs": [
    {
     "data": {
      "text/plain": "(1613, 16)"
     },
     "execution_count": 50,
     "metadata": {},
     "output_type": "execute_result"
    }
   ],
   "source": [
    "# 1613/(1613 + 404) = 0.8\n",
    "train_df.shape"
   ],
   "metadata": {
    "collapsed": false
   }
  },
  {
   "cell_type": "code",
   "execution_count": 51,
   "outputs": [
    {
     "data": {
      "text/plain": "(404, 16)"
     },
     "execution_count": 51,
     "metadata": {},
     "output_type": "execute_result"
    }
   ],
   "source": [
    "test_df.shape"
   ],
   "metadata": {
    "collapsed": false
   }
  },
  {
   "cell_type": "markdown",
   "id": "c3e778f9-b504-4223-92d1-494713833eb8",
   "metadata": {
    "slideshow": {
     "slide_type": "slide"
    }
   },
   "source": [
    "## Step 2: Clean data\n",
    "Let's look at the dataset information to see if there are incomplete rows"
   ]
  },
  {
   "cell_type": "markdown",
   "source": [
    "Looking at `train_df.info()` gives us a rough idea about the features being numeric or textual and the number of `NaNs` in each feature:\n",
    "- Luckily, we don't have any null values in our data, as we can see below:"
   ],
   "metadata": {
    "collapsed": false
   }
  },
  {
   "cell_type": "code",
   "execution_count": 52,
   "outputs": [
    {
     "name": "stdout",
     "output_type": "stream",
     "text": [
      "<class 'pandas.core.frame.DataFrame'>\n",
      "Int64Index: 1613 entries, 850 to 74\n",
      "Data columns (total 16 columns):\n",
      " #   Column            Non-Null Count  Dtype  \n",
      "---  ------            --------------  -----  \n",
      " 0   acousticness      1613 non-null   float64\n",
      " 1   danceability      1613 non-null   float64\n",
      " 2   duration_ms       1613 non-null   int64  \n",
      " 3   energy            1613 non-null   float64\n",
      " 4   instrumentalness  1613 non-null   float64\n",
      " 5   key               1613 non-null   int64  \n",
      " 6   liveness          1613 non-null   float64\n",
      " 7   loudness          1613 non-null   float64\n",
      " 8   mode              1613 non-null   int64  \n",
      " 9   speechiness       1613 non-null   float64\n",
      " 10  tempo             1613 non-null   float64\n",
      " 11  time_signature    1613 non-null   float64\n",
      " 12  valence           1613 non-null   float64\n",
      " 13  target            1613 non-null   int64  \n",
      " 14  song_title        1613 non-null   object \n",
      " 15  artist            1613 non-null   object \n",
      "dtypes: float64(10), int64(4), object(2)\n",
      "memory usage: 214.2+ KB\n"
     ]
    }
   ],
   "source": [
    "train_df.info()"
   ],
   "metadata": {
    "collapsed": false
   }
  },
  {
   "cell_type": "code",
   "execution_count": 53,
   "id": "aba28425-ed73-45bf-9e16-aa246aa0b191",
   "metadata": {
    "slideshow": {
     "slide_type": "fragment"
    }
   },
   "outputs": [
    {
     "data": {
      "text/plain": "      acousticness  danceability  duration_ms  energy  instrumentalness  key  \\\n850       0.000173         0.641       262000  0.9540           0.42500    5   \n1218      0.219000         0.427       257760  0.8610           0.00000    1   \n969       0.147000         0.850       261321  0.5090           0.00000    6   \n9         0.002080         0.836       226840  0.6030           0.00000    7   \n1595      0.915000         0.277       295747  0.0156           0.00654    7   \n\n      liveness  loudness  mode  speechiness    tempo  time_signature  valence  \\\n850     0.0535    -6.765     0       0.0589  122.790             4.0   0.8270   \n1218    0.2770    -4.874     1       0.3760  161.776             4.0   0.5810   \n969     0.0759    -9.637     0       0.3780  134.900             4.0   0.7690   \n9       0.5710    -7.792     1       0.2370   99.994             4.0   0.3860   \n1595    0.1480   -24.801     1       0.0482  117.119             3.0   0.0855   \n\n      target                                         song_title  \\\n850        1                                 Supernature - Edit   \n1218       0                                    Best I Ever Had   \n969        1                                        Type of Way   \n9          1                                     Digital Animal   \n1595       0  String Quartet No. 4 in C Major, D. 46: II. An...   \n\n               artist  \n850           Cerrone  \n1218            Drake  \n969   Rich Homie Quan  \n9         Honey Claws  \n1595   Franz Schubert  ",
      "text/html": "<div>\n<style scoped>\n    .dataframe tbody tr th:only-of-type {\n        vertical-align: middle;\n    }\n\n    .dataframe tbody tr th {\n        vertical-align: top;\n    }\n\n    .dataframe thead th {\n        text-align: right;\n    }\n</style>\n<table border=\"1\" class=\"dataframe\">\n  <thead>\n    <tr style=\"text-align: right;\">\n      <th></th>\n      <th>acousticness</th>\n      <th>danceability</th>\n      <th>duration_ms</th>\n      <th>energy</th>\n      <th>instrumentalness</th>\n      <th>key</th>\n      <th>liveness</th>\n      <th>loudness</th>\n      <th>mode</th>\n      <th>speechiness</th>\n      <th>tempo</th>\n      <th>time_signature</th>\n      <th>valence</th>\n      <th>target</th>\n      <th>song_title</th>\n      <th>artist</th>\n    </tr>\n  </thead>\n  <tbody>\n    <tr>\n      <th>850</th>\n      <td>0.000173</td>\n      <td>0.641</td>\n      <td>262000</td>\n      <td>0.9540</td>\n      <td>0.42500</td>\n      <td>5</td>\n      <td>0.0535</td>\n      <td>-6.765</td>\n      <td>0</td>\n      <td>0.0589</td>\n      <td>122.790</td>\n      <td>4.0</td>\n      <td>0.8270</td>\n      <td>1</td>\n      <td>Supernature - Edit</td>\n      <td>Cerrone</td>\n    </tr>\n    <tr>\n      <th>1218</th>\n      <td>0.219000</td>\n      <td>0.427</td>\n      <td>257760</td>\n      <td>0.8610</td>\n      <td>0.00000</td>\n      <td>1</td>\n      <td>0.2770</td>\n      <td>-4.874</td>\n      <td>1</td>\n      <td>0.3760</td>\n      <td>161.776</td>\n      <td>4.0</td>\n      <td>0.5810</td>\n      <td>0</td>\n      <td>Best I Ever Had</td>\n      <td>Drake</td>\n    </tr>\n    <tr>\n      <th>969</th>\n      <td>0.147000</td>\n      <td>0.850</td>\n      <td>261321</td>\n      <td>0.5090</td>\n      <td>0.00000</td>\n      <td>6</td>\n      <td>0.0759</td>\n      <td>-9.637</td>\n      <td>0</td>\n      <td>0.3780</td>\n      <td>134.900</td>\n      <td>4.0</td>\n      <td>0.7690</td>\n      <td>1</td>\n      <td>Type of Way</td>\n      <td>Rich Homie Quan</td>\n    </tr>\n    <tr>\n      <th>9</th>\n      <td>0.002080</td>\n      <td>0.836</td>\n      <td>226840</td>\n      <td>0.6030</td>\n      <td>0.00000</td>\n      <td>7</td>\n      <td>0.5710</td>\n      <td>-7.792</td>\n      <td>1</td>\n      <td>0.2370</td>\n      <td>99.994</td>\n      <td>4.0</td>\n      <td>0.3860</td>\n      <td>1</td>\n      <td>Digital Animal</td>\n      <td>Honey Claws</td>\n    </tr>\n    <tr>\n      <th>1595</th>\n      <td>0.915000</td>\n      <td>0.277</td>\n      <td>295747</td>\n      <td>0.0156</td>\n      <td>0.00654</td>\n      <td>7</td>\n      <td>0.1480</td>\n      <td>-24.801</td>\n      <td>1</td>\n      <td>0.0482</td>\n      <td>117.119</td>\n      <td>3.0</td>\n      <td>0.0855</td>\n      <td>0</td>\n      <td>String Quartet No. 4 in C Major, D. 46: II. An...</td>\n      <td>Franz Schubert</td>\n    </tr>\n  </tbody>\n</table>\n</div>"
     },
     "execution_count": 53,
     "metadata": {},
     "output_type": "execute_result"
    }
   ],
   "source": [
    "train_df.head()"
   ]
  },
  {
   "cell_type": "markdown",
   "id": "36c5f9fa-7ca9-46db-9bc0-65674b607b87",
   "metadata": {
    "slideshow": {
     "slide_type": "fragment"
    }
   },
   "source": [
    "We can see that song title, artist and target are categorical variables. Therefore we need to transform these into numeric variables.\n",
    "\n",
    "number dummy variables = # categories - 1\n",
    "\n",
    "### How can we do this in python?\n",
    "By Column transformer (will be introduced in the future), but if you are interested you could learn about it here: https://scikit-learn.org/stable/modules/generated/sklearn.compose.ColumnTransformer.html\n",
    "<div>\n",
    "<img src=\"columntransformer.png\" width=\"800\"/>\n",
    "</div>\n",
    "\n",
    "### For simplicity, We will remove the text features from the data and just understand the model using numeric features for now, Since textual features need some preprocessing."
   ]
  },
  {
   "cell_type": "code",
   "execution_count": 54,
   "outputs": [],
   "source": [
    "train_df = train_df.drop(columns=[\"song_title\", \"artist\"])\n",
    "test_df = test_df.drop(columns=[\"song_title\", \"artist\"])"
   ],
   "metadata": {
    "collapsed": false
   }
  },
  {
   "cell_type": "markdown",
   "source": [
    "## Step 3: Train Model"
   ],
   "metadata": {
    "collapsed": false
   }
  },
  {
   "cell_type": "markdown",
   "source": [
    "### Now we are ready to train our model!\n",
    "The next step is to build a model using a machine learning algorithm. There are a lot of algorithms out there. Each algorithm has its pros and cons in terms of the performance. For this workshop we will use a very simple algorithm called Decision Tree.\n",
    "- We don't have to program this algorithm, it's actually already implemented for us in the library called scikit-learn (you will see the library imported the class DecisionTreeClassifier which implements the decision tree classifier)."
   ],
   "metadata": {
    "collapsed": false
   }
  },
  {
   "cell_type": "markdown",
   "source": [
    "### Here we are separating the target (AKA, response variables, y variable..) from the features (AKA, independent variables,predictors,x variables..)\n"
   ],
   "metadata": {
    "collapsed": false
   }
  },
  {
   "cell_type": "code",
   "execution_count": 55,
   "outputs": [],
   "source": [
    "# features,target :will be usedFOR TRAINING, think about them as the Practise exams and their answer keys\n",
    "X_train,y_train = train_df.drop(columns=[\"target\"]), train_df['target']\n",
    "\n",
    "# features,target :will be used FOR TESTING, think about them as the FINAL exams and  answer keys\n",
    "X_test, y_test = test_df.drop(columns=[\"target\"]), test_df['target']"
   ],
   "metadata": {
    "collapsed": false
   }
  },
  {
   "cell_type": "code",
   "execution_count": 56,
   "outputs": [
    {
     "data": {
      "text/plain": "      acousticness  danceability  duration_ms  energy  instrumentalness  key  \\\n850       0.000173         0.641       262000  0.9540          0.425000    5   \n1218      0.219000         0.427       257760  0.8610          0.000000    1   \n969       0.147000         0.850       261321  0.5090          0.000000    6   \n9         0.002080         0.836       226840  0.6030          0.000000    7   \n1595      0.915000         0.277       295747  0.0156          0.006540    7   \n...            ...           ...          ...     ...               ...  ...   \n1516      0.941000         0.349       176297  0.2270          0.819000    6   \n585       0.004690         0.821       280173  0.4690          0.000000    8   \n755       0.023300         0.824       299960  0.5720          0.000008   11   \n1312      0.000057         0.444       268187  0.9430          0.007040    1   \n74        0.727000         0.506       160400  0.9480          0.000000   10   \n\n      liveness  loudness  mode  speechiness    tempo  time_signature  valence  \n850     0.0535    -6.765     0       0.0589  122.790             4.0   0.8270  \n1218    0.2770    -4.874     1       0.3760  161.776             4.0   0.5810  \n969     0.0759    -9.637     0       0.3780  134.900             4.0   0.7690  \n9       0.5710    -7.792     1       0.2370   99.994             4.0   0.3860  \n1595    0.1480   -24.801     1       0.0482  117.119             3.0   0.0855  \n...        ...       ...   ...          ...      ...             ...      ...  \n1516    0.1090   -12.298     1       0.0310  100.449             4.0   0.1500  \n585     0.1410    -7.152     1       0.0473  132.002             4.0   0.3210  \n755     0.2080    -4.868     1       0.0652  153.977             4.0   0.6690  \n1312    0.1140    -4.955     0       0.0900  119.945             4.0   0.2920  \n74      0.0904    -5.626     1       0.1050  130.195             4.0   0.9360  \n\n[1613 rows x 13 columns]",
      "text/html": "<div>\n<style scoped>\n    .dataframe tbody tr th:only-of-type {\n        vertical-align: middle;\n    }\n\n    .dataframe tbody tr th {\n        vertical-align: top;\n    }\n\n    .dataframe thead th {\n        text-align: right;\n    }\n</style>\n<table border=\"1\" class=\"dataframe\">\n  <thead>\n    <tr style=\"text-align: right;\">\n      <th></th>\n      <th>acousticness</th>\n      <th>danceability</th>\n      <th>duration_ms</th>\n      <th>energy</th>\n      <th>instrumentalness</th>\n      <th>key</th>\n      <th>liveness</th>\n      <th>loudness</th>\n      <th>mode</th>\n      <th>speechiness</th>\n      <th>tempo</th>\n      <th>time_signature</th>\n      <th>valence</th>\n    </tr>\n  </thead>\n  <tbody>\n    <tr>\n      <th>850</th>\n      <td>0.000173</td>\n      <td>0.641</td>\n      <td>262000</td>\n      <td>0.9540</td>\n      <td>0.425000</td>\n      <td>5</td>\n      <td>0.0535</td>\n      <td>-6.765</td>\n      <td>0</td>\n      <td>0.0589</td>\n      <td>122.790</td>\n      <td>4.0</td>\n      <td>0.8270</td>\n    </tr>\n    <tr>\n      <th>1218</th>\n      <td>0.219000</td>\n      <td>0.427</td>\n      <td>257760</td>\n      <td>0.8610</td>\n      <td>0.000000</td>\n      <td>1</td>\n      <td>0.2770</td>\n      <td>-4.874</td>\n      <td>1</td>\n      <td>0.3760</td>\n      <td>161.776</td>\n      <td>4.0</td>\n      <td>0.5810</td>\n    </tr>\n    <tr>\n      <th>969</th>\n      <td>0.147000</td>\n      <td>0.850</td>\n      <td>261321</td>\n      <td>0.5090</td>\n      <td>0.000000</td>\n      <td>6</td>\n      <td>0.0759</td>\n      <td>-9.637</td>\n      <td>0</td>\n      <td>0.3780</td>\n      <td>134.900</td>\n      <td>4.0</td>\n      <td>0.7690</td>\n    </tr>\n    <tr>\n      <th>9</th>\n      <td>0.002080</td>\n      <td>0.836</td>\n      <td>226840</td>\n      <td>0.6030</td>\n      <td>0.000000</td>\n      <td>7</td>\n      <td>0.5710</td>\n      <td>-7.792</td>\n      <td>1</td>\n      <td>0.2370</td>\n      <td>99.994</td>\n      <td>4.0</td>\n      <td>0.3860</td>\n    </tr>\n    <tr>\n      <th>1595</th>\n      <td>0.915000</td>\n      <td>0.277</td>\n      <td>295747</td>\n      <td>0.0156</td>\n      <td>0.006540</td>\n      <td>7</td>\n      <td>0.1480</td>\n      <td>-24.801</td>\n      <td>1</td>\n      <td>0.0482</td>\n      <td>117.119</td>\n      <td>3.0</td>\n      <td>0.0855</td>\n    </tr>\n    <tr>\n      <th>...</th>\n      <td>...</td>\n      <td>...</td>\n      <td>...</td>\n      <td>...</td>\n      <td>...</td>\n      <td>...</td>\n      <td>...</td>\n      <td>...</td>\n      <td>...</td>\n      <td>...</td>\n      <td>...</td>\n      <td>...</td>\n      <td>...</td>\n    </tr>\n    <tr>\n      <th>1516</th>\n      <td>0.941000</td>\n      <td>0.349</td>\n      <td>176297</td>\n      <td>0.2270</td>\n      <td>0.819000</td>\n      <td>6</td>\n      <td>0.1090</td>\n      <td>-12.298</td>\n      <td>1</td>\n      <td>0.0310</td>\n      <td>100.449</td>\n      <td>4.0</td>\n      <td>0.1500</td>\n    </tr>\n    <tr>\n      <th>585</th>\n      <td>0.004690</td>\n      <td>0.821</td>\n      <td>280173</td>\n      <td>0.4690</td>\n      <td>0.000000</td>\n      <td>8</td>\n      <td>0.1410</td>\n      <td>-7.152</td>\n      <td>1</td>\n      <td>0.0473</td>\n      <td>132.002</td>\n      <td>4.0</td>\n      <td>0.3210</td>\n    </tr>\n    <tr>\n      <th>755</th>\n      <td>0.023300</td>\n      <td>0.824</td>\n      <td>299960</td>\n      <td>0.5720</td>\n      <td>0.000008</td>\n      <td>11</td>\n      <td>0.2080</td>\n      <td>-4.868</td>\n      <td>1</td>\n      <td>0.0652</td>\n      <td>153.977</td>\n      <td>4.0</td>\n      <td>0.6690</td>\n    </tr>\n    <tr>\n      <th>1312</th>\n      <td>0.000057</td>\n      <td>0.444</td>\n      <td>268187</td>\n      <td>0.9430</td>\n      <td>0.007040</td>\n      <td>1</td>\n      <td>0.1140</td>\n      <td>-4.955</td>\n      <td>0</td>\n      <td>0.0900</td>\n      <td>119.945</td>\n      <td>4.0</td>\n      <td>0.2920</td>\n    </tr>\n    <tr>\n      <th>74</th>\n      <td>0.727000</td>\n      <td>0.506</td>\n      <td>160400</td>\n      <td>0.9480</td>\n      <td>0.000000</td>\n      <td>10</td>\n      <td>0.0904</td>\n      <td>-5.626</td>\n      <td>1</td>\n      <td>0.1050</td>\n      <td>130.195</td>\n      <td>4.0</td>\n      <td>0.9360</td>\n    </tr>\n  </tbody>\n</table>\n<p>1613 rows × 13 columns</p>\n</div>"
     },
     "execution_count": 56,
     "metadata": {},
     "output_type": "execute_result"
    }
   ],
   "source": [
    "X_train"
   ],
   "metadata": {
    "collapsed": false
   }
  },
  {
   "cell_type": "code",
   "execution_count": 57,
   "outputs": [
    {
     "data": {
      "text/plain": "850     1\n1218    0\n969     1\n9       1\n1595    0\n       ..\n1516    0\n585     1\n755     1\n1312    0\n74      1\nName: target, Length: 1613, dtype: int64"
     },
     "execution_count": 57,
     "metadata": {},
     "output_type": "execute_result"
    }
   ],
   "source": [
    "y_train"
   ],
   "metadata": {
    "collapsed": false
   }
  },
  {
   "cell_type": "markdown",
   "id": "6542bde4-6ce9-47b6-b102-2200722ee515",
   "metadata": {
    "slideshow": {
     "slide_type": "slide"
    }
   },
   "source": [
    "Let's talk about Decision Tree. Our goal here is to determine weather the customer likes the song or not. We can use Decision Tree algorithm here for creating the model for classification problems like this one."
   ]
  },
  {
   "cell_type": "markdown",
   "source": [
    "### What is a Decision Tree?"
   ],
   "metadata": {
    "collapsed": false
   }
  },
  {
   "cell_type": "markdown",
   "source": [
    "- classification model that predicts value of target based on learning simple \"rules\" that it obtained from the data pattern.\n",
    "Let us consider the following data:\n",
    "<div>\n",
    "<img src=\"img.png\" width=\"1000\"/>\n",
    "</div>"
   ],
   "metadata": {
    "collapsed": false
   }
  },
  {
   "cell_type": "markdown",
   "source": [
    "This is one possible tree for this problem.\n",
    "<div>\n",
    "<img src=\"DecisionTree.png\" width=\"1000\"/>\n",
    "</div>"
   ],
   "metadata": {
    "collapsed": false
   }
  },
  {
   "cell_type": "markdown",
   "source": [
    "**Pros of Decision Tree Classifier:**\n",
    "\n",
    "    - simple to understand\n",
    "    - easy to visualize\n",
    "    - generate understandable rules.\n",
    "    - perform classification without requiring much computation.\n",
    "\n",
    "**Cons:**\n",
    "\n",
    "    - less appropriate for estimation tasks where the goal is to predict the value of a continuous attribute.\n",
    "    - prone to errors in classification problems with many class and a relatively small number of training examples."
   ],
   "metadata": {
    "collapsed": false
   }
  },
  {
   "cell_type": "markdown",
   "source": [
    "### How can we build a decision tree model in python?"
   ],
   "metadata": {
    "collapsed": false
   }
  },
  {
   "cell_type": "markdown",
   "source": [
    "Now lets fit the model:\n"
   ],
   "metadata": {
    "collapsed": false
   }
  },
  {
   "cell_type": "code",
   "execution_count": 58,
   "outputs": [
    {
     "data": {
      "text/plain": "DecisionTreeClassifier()",
      "text/html": "<style>#sk-container-id-5 {color: black;background-color: white;}#sk-container-id-5 pre{padding: 0;}#sk-container-id-5 div.sk-toggleable {background-color: white;}#sk-container-id-5 label.sk-toggleable__label {cursor: pointer;display: block;width: 100%;margin-bottom: 0;padding: 0.3em;box-sizing: border-box;text-align: center;}#sk-container-id-5 label.sk-toggleable__label-arrow:before {content: \"▸\";float: left;margin-right: 0.25em;color: #696969;}#sk-container-id-5 label.sk-toggleable__label-arrow:hover:before {color: black;}#sk-container-id-5 div.sk-estimator:hover label.sk-toggleable__label-arrow:before {color: black;}#sk-container-id-5 div.sk-toggleable__content {max-height: 0;max-width: 0;overflow: hidden;text-align: left;background-color: #f0f8ff;}#sk-container-id-5 div.sk-toggleable__content pre {margin: 0.2em;color: black;border-radius: 0.25em;background-color: #f0f8ff;}#sk-container-id-5 input.sk-toggleable__control:checked~div.sk-toggleable__content {max-height: 200px;max-width: 100%;overflow: auto;}#sk-container-id-5 input.sk-toggleable__control:checked~label.sk-toggleable__label-arrow:before {content: \"▾\";}#sk-container-id-5 div.sk-estimator input.sk-toggleable__control:checked~label.sk-toggleable__label {background-color: #d4ebff;}#sk-container-id-5 div.sk-label input.sk-toggleable__control:checked~label.sk-toggleable__label {background-color: #d4ebff;}#sk-container-id-5 input.sk-hidden--visually {border: 0;clip: rect(1px 1px 1px 1px);clip: rect(1px, 1px, 1px, 1px);height: 1px;margin: -1px;overflow: hidden;padding: 0;position: absolute;width: 1px;}#sk-container-id-5 div.sk-estimator {font-family: monospace;background-color: #f0f8ff;border: 1px dotted black;border-radius: 0.25em;box-sizing: border-box;margin-bottom: 0.5em;}#sk-container-id-5 div.sk-estimator:hover {background-color: #d4ebff;}#sk-container-id-5 div.sk-parallel-item::after {content: \"\";width: 100%;border-bottom: 1px solid gray;flex-grow: 1;}#sk-container-id-5 div.sk-label:hover label.sk-toggleable__label {background-color: #d4ebff;}#sk-container-id-5 div.sk-serial::before {content: \"\";position: absolute;border-left: 1px solid gray;box-sizing: border-box;top: 0;bottom: 0;left: 50%;z-index: 0;}#sk-container-id-5 div.sk-serial {display: flex;flex-direction: column;align-items: center;background-color: white;padding-right: 0.2em;padding-left: 0.2em;position: relative;}#sk-container-id-5 div.sk-item {position: relative;z-index: 1;}#sk-container-id-5 div.sk-parallel {display: flex;align-items: stretch;justify-content: center;background-color: white;position: relative;}#sk-container-id-5 div.sk-item::before, #sk-container-id-5 div.sk-parallel-item::before {content: \"\";position: absolute;border-left: 1px solid gray;box-sizing: border-box;top: 0;bottom: 0;left: 50%;z-index: -1;}#sk-container-id-5 div.sk-parallel-item {display: flex;flex-direction: column;z-index: 1;position: relative;background-color: white;}#sk-container-id-5 div.sk-parallel-item:first-child::after {align-self: flex-end;width: 50%;}#sk-container-id-5 div.sk-parallel-item:last-child::after {align-self: flex-start;width: 50%;}#sk-container-id-5 div.sk-parallel-item:only-child::after {width: 0;}#sk-container-id-5 div.sk-dashed-wrapped {border: 1px dashed gray;margin: 0 0.4em 0.5em 0.4em;box-sizing: border-box;padding-bottom: 0.4em;background-color: white;}#sk-container-id-5 div.sk-label label {font-family: monospace;font-weight: bold;display: inline-block;line-height: 1.2em;}#sk-container-id-5 div.sk-label-container {text-align: center;}#sk-container-id-5 div.sk-container {/* jupyter's `normalize.less` sets `[hidden] { display: none; }` but bootstrap.min.css set `[hidden] { display: none !important; }` so we also need the `!important` here to be able to override the default hidden behavior on the sphinx rendered scikit-learn.org. See: https://github.com/scikit-learn/scikit-learn/issues/21755 */display: inline-block !important;position: relative;}#sk-container-id-5 div.sk-text-repr-fallback {display: none;}</style><div id=\"sk-container-id-5\" class=\"sk-top-container\"><div class=\"sk-text-repr-fallback\"><pre>DecisionTreeClassifier()</pre><b>In a Jupyter environment, please rerun this cell to show the HTML representation or trust the notebook. <br />On GitHub, the HTML representation is unable to render, please try loading this page with nbviewer.org.</b></div><div class=\"sk-container\" hidden><div class=\"sk-item\"><div class=\"sk-estimator sk-toggleable\"><input class=\"sk-toggleable__control sk-hidden--visually\" id=\"sk-estimator-id-5\" type=\"checkbox\" checked><label for=\"sk-estimator-id-5\" class=\"sk-toggleable__label sk-toggleable__label-arrow\">DecisionTreeClassifier</label><div class=\"sk-toggleable__content\"><pre>DecisionTreeClassifier()</pre></div></div></div></div></div>"
     },
     "execution_count": 58,
     "metadata": {},
     "output_type": "execute_result"
    }
   ],
   "source": [
    "# We need to create an object, let's call it model, and set it to a new instance of Decision Tree Classifier.\n",
    "model = DecisionTreeClassifier()\n",
    "# next we need to train it, so it learns the patterns of the INPUT train-set & OUTPUT train-set. Recall the Golden Rule of ML.\n",
    "# The input is X_train, the output is y_train\n",
    "model.fit(X_train, y_train)\n",
    "# The output is just a visual for the model object you just fitted/trained."
   ],
   "metadata": {
    "collapsed": false
   }
  },
  {
   "cell_type": "markdown",
   "source": [
    "## Step 4: Make Predictions\n",
    "After fitting the model, we can predict on the testing set, and also evaluate our decision tree by calculating its accuracy."
   ],
   "metadata": {
    "collapsed": false
   }
  },
  {
   "cell_type": "code",
   "execution_count": 59,
   "outputs": [
    {
     "data": {
      "text/plain": "array([1, 0, 0, 0, 0, 1, 0, 0, 0, 1, 1, 0, 1, 1, 0, 1, 1, 0, 0, 1, 0, 0,\n       1, 0, 0, 0, 1, 1, 1, 1, 1, 0, 1, 0, 0, 1, 0, 0, 1, 0, 0, 1, 0, 1,\n       0, 1, 1, 1, 1, 0, 0, 0, 0, 0, 1, 0, 0, 0, 0, 1, 1, 1, 1, 0, 0, 0,\n       1, 0, 1, 0, 1, 1, 0, 0, 0, 1, 1, 1, 1, 0, 0, 1, 1, 0, 1, 1, 1, 0,\n       1, 0, 1, 1, 0, 1, 0, 0, 0, 0, 1, 0, 0, 1, 0, 1, 0, 0, 1, 1, 1, 0,\n       0, 0, 0, 1, 1, 0, 1, 0, 0, 1, 0, 1, 0, 1, 1, 1, 0, 1, 0, 0, 0, 0,\n       0, 1, 1, 1, 1, 0, 0, 0, 0, 0, 0, 0, 0, 1, 0, 0, 1, 0, 0, 0, 0, 1,\n       1, 0, 1, 1, 0, 1, 1, 1, 0, 0, 0, 1, 0, 1, 1, 0, 1, 1, 1, 0, 1, 1,\n       1, 0, 1, 0, 0, 0, 0, 1, 1, 1, 1, 0, 0, 1, 0, 1, 0, 1, 1, 0, 0, 0,\n       0, 0, 0, 1, 1, 1, 1, 1, 0, 0, 0, 1, 0, 0, 1, 0, 1, 1, 0, 1, 1, 1,\n       0, 0, 0, 0, 0, 0, 0, 1, 0, 1, 1, 1, 0, 0, 1, 0, 1, 1, 1, 0, 1, 0,\n       1, 1, 1, 1, 1, 0, 1, 1, 0, 0, 0, 0, 0, 1, 0, 0, 1, 1, 0, 1, 0, 1,\n       1, 1, 0, 0, 0, 1, 1, 0, 0, 0, 0, 1, 1, 0, 0, 0, 0, 1, 0, 0, 1, 1,\n       1, 1, 0, 0, 1, 1, 0, 0, 0, 1, 0, 1, 0, 1, 1, 1, 1, 1, 1, 1, 1, 1,\n       0, 1, 1, 1, 0, 1, 1, 0, 1, 0, 0, 0, 1, 1, 0, 0, 0, 1, 0, 1, 1, 0,\n       1, 0, 1, 1, 1, 0, 1, 0, 1, 1, 0, 1, 1, 1, 1, 0, 0, 1, 0, 1, 0, 1,\n       0, 1, 0, 1, 0, 1, 1, 1, 1, 1, 1, 1, 1, 0, 1, 1, 0, 0, 0, 1, 0, 0,\n       0, 0, 1, 1, 1, 0, 1, 0, 0, 1, 0, 1, 0, 0, 0, 0, 1, 1, 0, 0, 0, 0,\n       0, 0, 1, 0, 1, 0, 1, 0])"
     },
     "execution_count": 59,
     "metadata": {},
     "output_type": "execute_result"
    }
   ],
   "source": [
    "predict = model.predict(X_test)\n",
    "predict"
   ],
   "metadata": {
    "collapsed": false
   }
  },
  {
   "cell_type": "code",
   "execution_count": 60,
   "outputs": [],
   "source": [
    "# combining the predicted value with the test data set:\n",
    "pred_result = test_df\n",
    "pred_result['predicted'] = predict.tolist()"
   ],
   "metadata": {
    "collapsed": false
   }
  },
  {
   "cell_type": "code",
   "execution_count": 61,
   "outputs": [
    {
     "data": {
      "text/plain": "      acousticness  danceability  duration_ms  energy  instrumentalness  key  \\\n1723       0.00290         0.583       271093   0.681          0.000060   11   \n1589       0.14700         0.554       191947   0.844          0.000007    9   \n1833       0.00388         0.492       186867   0.797          0.000000   11   \n1447       0.04400         0.597       192041   0.832          0.000030   11   \n1561       0.90300         0.257       376573   0.216          0.134000    8   \n...            ...           ...          ...     ...               ...  ...   \n1532       0.94600         0.505       294940   0.159          0.012700    7   \n1240       0.03420         0.511       284947   0.815          0.000000    6   \n1104       0.20400         0.685       221027   0.731          0.000000    5   \n815        0.61200         0.649       175733   0.406          0.000000    2   \n303        0.40700         0.688       192040   0.488          0.000000   11   \n\n      liveness  loudness  mode  speechiness    tempo  time_signature  valence  \\\n1723    0.0999    -8.152     0       0.0585  188.256             4.0    0.570   \n1589    0.3290    -7.763     1       0.0468  159.119             4.0    0.935   \n1833    0.4660    -4.666     1       0.0388   79.513             4.0    0.533   \n1447    0.0864    -5.480     0       0.1470  162.030             4.0    0.479   \n1561    0.0979   -16.266     0       0.0365   65.125             3.0    0.190   \n...        ...       ...   ...          ...      ...             ...      ...   \n1532    0.2180   -11.235     0       0.0336   59.385             4.0    0.205   \n1240    0.0900    -6.317     0       0.0480  128.004             4.0    0.245   \n1104    0.0722    -5.119     0       0.0930  177.912             4.0    0.776   \n815     0.1030   -10.430     1       0.0803  110.091             3.0    0.478   \n303     0.4300   -14.195     0       0.3570   69.770             4.0    0.708   \n\n      target  predicted  \n1723       0          1  \n1589       0          0  \n1833       0          0  \n1447       0          0  \n1561       0          0  \n...      ...        ...  \n1532       0          0  \n1240       0          1  \n1104       0          0  \n815        1          1  \n303        1          0  \n\n[404 rows x 15 columns]",
      "text/html": "<div>\n<style scoped>\n    .dataframe tbody tr th:only-of-type {\n        vertical-align: middle;\n    }\n\n    .dataframe tbody tr th {\n        vertical-align: top;\n    }\n\n    .dataframe thead th {\n        text-align: right;\n    }\n</style>\n<table border=\"1\" class=\"dataframe\">\n  <thead>\n    <tr style=\"text-align: right;\">\n      <th></th>\n      <th>acousticness</th>\n      <th>danceability</th>\n      <th>duration_ms</th>\n      <th>energy</th>\n      <th>instrumentalness</th>\n      <th>key</th>\n      <th>liveness</th>\n      <th>loudness</th>\n      <th>mode</th>\n      <th>speechiness</th>\n      <th>tempo</th>\n      <th>time_signature</th>\n      <th>valence</th>\n      <th>target</th>\n      <th>predicted</th>\n    </tr>\n  </thead>\n  <tbody>\n    <tr>\n      <th>1723</th>\n      <td>0.00290</td>\n      <td>0.583</td>\n      <td>271093</td>\n      <td>0.681</td>\n      <td>0.000060</td>\n      <td>11</td>\n      <td>0.0999</td>\n      <td>-8.152</td>\n      <td>0</td>\n      <td>0.0585</td>\n      <td>188.256</td>\n      <td>4.0</td>\n      <td>0.570</td>\n      <td>0</td>\n      <td>1</td>\n    </tr>\n    <tr>\n      <th>1589</th>\n      <td>0.14700</td>\n      <td>0.554</td>\n      <td>191947</td>\n      <td>0.844</td>\n      <td>0.000007</td>\n      <td>9</td>\n      <td>0.3290</td>\n      <td>-7.763</td>\n      <td>1</td>\n      <td>0.0468</td>\n      <td>159.119</td>\n      <td>4.0</td>\n      <td>0.935</td>\n      <td>0</td>\n      <td>0</td>\n    </tr>\n    <tr>\n      <th>1833</th>\n      <td>0.00388</td>\n      <td>0.492</td>\n      <td>186867</td>\n      <td>0.797</td>\n      <td>0.000000</td>\n      <td>11</td>\n      <td>0.4660</td>\n      <td>-4.666</td>\n      <td>1</td>\n      <td>0.0388</td>\n      <td>79.513</td>\n      <td>4.0</td>\n      <td>0.533</td>\n      <td>0</td>\n      <td>0</td>\n    </tr>\n    <tr>\n      <th>1447</th>\n      <td>0.04400</td>\n      <td>0.597</td>\n      <td>192041</td>\n      <td>0.832</td>\n      <td>0.000030</td>\n      <td>11</td>\n      <td>0.0864</td>\n      <td>-5.480</td>\n      <td>0</td>\n      <td>0.1470</td>\n      <td>162.030</td>\n      <td>4.0</td>\n      <td>0.479</td>\n      <td>0</td>\n      <td>0</td>\n    </tr>\n    <tr>\n      <th>1561</th>\n      <td>0.90300</td>\n      <td>0.257</td>\n      <td>376573</td>\n      <td>0.216</td>\n      <td>0.134000</td>\n      <td>8</td>\n      <td>0.0979</td>\n      <td>-16.266</td>\n      <td>0</td>\n      <td>0.0365</td>\n      <td>65.125</td>\n      <td>3.0</td>\n      <td>0.190</td>\n      <td>0</td>\n      <td>0</td>\n    </tr>\n    <tr>\n      <th>...</th>\n      <td>...</td>\n      <td>...</td>\n      <td>...</td>\n      <td>...</td>\n      <td>...</td>\n      <td>...</td>\n      <td>...</td>\n      <td>...</td>\n      <td>...</td>\n      <td>...</td>\n      <td>...</td>\n      <td>...</td>\n      <td>...</td>\n      <td>...</td>\n      <td>...</td>\n    </tr>\n    <tr>\n      <th>1532</th>\n      <td>0.94600</td>\n      <td>0.505</td>\n      <td>294940</td>\n      <td>0.159</td>\n      <td>0.012700</td>\n      <td>7</td>\n      <td>0.2180</td>\n      <td>-11.235</td>\n      <td>0</td>\n      <td>0.0336</td>\n      <td>59.385</td>\n      <td>4.0</td>\n      <td>0.205</td>\n      <td>0</td>\n      <td>0</td>\n    </tr>\n    <tr>\n      <th>1240</th>\n      <td>0.03420</td>\n      <td>0.511</td>\n      <td>284947</td>\n      <td>0.815</td>\n      <td>0.000000</td>\n      <td>6</td>\n      <td>0.0900</td>\n      <td>-6.317</td>\n      <td>0</td>\n      <td>0.0480</td>\n      <td>128.004</td>\n      <td>4.0</td>\n      <td>0.245</td>\n      <td>0</td>\n      <td>1</td>\n    </tr>\n    <tr>\n      <th>1104</th>\n      <td>0.20400</td>\n      <td>0.685</td>\n      <td>221027</td>\n      <td>0.731</td>\n      <td>0.000000</td>\n      <td>5</td>\n      <td>0.0722</td>\n      <td>-5.119</td>\n      <td>0</td>\n      <td>0.0930</td>\n      <td>177.912</td>\n      <td>4.0</td>\n      <td>0.776</td>\n      <td>0</td>\n      <td>0</td>\n    </tr>\n    <tr>\n      <th>815</th>\n      <td>0.61200</td>\n      <td>0.649</td>\n      <td>175733</td>\n      <td>0.406</td>\n      <td>0.000000</td>\n      <td>2</td>\n      <td>0.1030</td>\n      <td>-10.430</td>\n      <td>1</td>\n      <td>0.0803</td>\n      <td>110.091</td>\n      <td>3.0</td>\n      <td>0.478</td>\n      <td>1</td>\n      <td>1</td>\n    </tr>\n    <tr>\n      <th>303</th>\n      <td>0.40700</td>\n      <td>0.688</td>\n      <td>192040</td>\n      <td>0.488</td>\n      <td>0.000000</td>\n      <td>11</td>\n      <td>0.4300</td>\n      <td>-14.195</td>\n      <td>0</td>\n      <td>0.3570</td>\n      <td>69.770</td>\n      <td>4.0</td>\n      <td>0.708</td>\n      <td>1</td>\n      <td>0</td>\n    </tr>\n  </tbody>\n</table>\n<p>404 rows × 15 columns</p>\n</div>"
     },
     "execution_count": 61,
     "metadata": {},
     "output_type": "execute_result"
    }
   ],
   "source": [
    "pred_result"
   ],
   "metadata": {
    "collapsed": false
   }
  },
  {
   "cell_type": "markdown",
   "source": [
    "## Step 5: Evaluate the model and make improvement on its performance (Accuracy)"
   ],
   "metadata": {
    "collapsed": false
   }
  },
  {
   "cell_type": "code",
   "execution_count": 62,
   "outputs": [
    {
     "data": {
      "text/plain": "0.6856435643564357"
     },
     "execution_count": 62,
     "metadata": {},
     "output_type": "execute_result"
    }
   ],
   "source": [
    "accuracy = accuracy_score(y_test, predict)\n",
    "accuracy"
   ],
   "metadata": {
    "collapsed": false
   }
  },
  {
   "cell_type": "markdown",
   "source": [
    "> The test accuracy score is one of the metrics to see how our model generalize to unseen data (This is the key for Machine Learning: Our model should generalize well for new observations). We want our model to have high accuracy when predicting the test set, so we have more confident on the model accuracy after it's deployed to real world.\n",
    "\n",
    "### Improving the model accuracy by Hyperparameter tuning:\n",
    "Did some magic here to tune the parameter that goes into our DecisionTree Algorithm:"
   ],
   "metadata": {
    "collapsed": false
   }
  },
  {
   "cell_type": "code",
   "execution_count": 63,
   "outputs": [
    {
     "data": {
      "text/plain": "    max_depth  mean_train_score  mean_cv_score\n0           1          0.640490       0.634832\n1           2          0.704898       0.693160\n2           3          0.735897       0.714217\n3           4          0.764415       0.717357\n4           5          0.792519       0.734081\n5           6          0.825721       0.729131\n6           7          0.852310       0.717951\n7           8          0.879589       0.708082\n8           9          0.906384       0.703094\n9          10          0.930287       0.700598\n10         11          0.951090       0.697496\n11         12          0.968725       0.682643\n12         13          0.981262       0.689476\n13         14          0.988289       0.695656\n14         15          0.993111       0.686987\n15         16          0.996624       0.682018\n16         17          0.998140       0.688828\n17         18          0.998553       0.674573\n18         19          0.999242       0.697550\n19         20          0.999380       0.685109\n20         21          0.999380       0.692566\n21         22          0.999380       0.690710\n22         23          0.999380       0.677659\n23         24          0.999380       0.688812\n24         25          0.999380       0.686987",
      "text/html": "<div>\n<style scoped>\n    .dataframe tbody tr th:only-of-type {\n        vertical-align: middle;\n    }\n\n    .dataframe tbody tr th {\n        vertical-align: top;\n    }\n\n    .dataframe thead th {\n        text-align: right;\n    }\n</style>\n<table border=\"1\" class=\"dataframe\">\n  <thead>\n    <tr style=\"text-align: right;\">\n      <th></th>\n      <th>max_depth</th>\n      <th>mean_train_score</th>\n      <th>mean_cv_score</th>\n    </tr>\n  </thead>\n  <tbody>\n    <tr>\n      <th>0</th>\n      <td>1</td>\n      <td>0.640490</td>\n      <td>0.634832</td>\n    </tr>\n    <tr>\n      <th>1</th>\n      <td>2</td>\n      <td>0.704898</td>\n      <td>0.693160</td>\n    </tr>\n    <tr>\n      <th>2</th>\n      <td>3</td>\n      <td>0.735897</td>\n      <td>0.714217</td>\n    </tr>\n    <tr>\n      <th>3</th>\n      <td>4</td>\n      <td>0.764415</td>\n      <td>0.717357</td>\n    </tr>\n    <tr>\n      <th>4</th>\n      <td>5</td>\n      <td>0.792519</td>\n      <td>0.734081</td>\n    </tr>\n    <tr>\n      <th>5</th>\n      <td>6</td>\n      <td>0.825721</td>\n      <td>0.729131</td>\n    </tr>\n    <tr>\n      <th>6</th>\n      <td>7</td>\n      <td>0.852310</td>\n      <td>0.717951</td>\n    </tr>\n    <tr>\n      <th>7</th>\n      <td>8</td>\n      <td>0.879589</td>\n      <td>0.708082</td>\n    </tr>\n    <tr>\n      <th>8</th>\n      <td>9</td>\n      <td>0.906384</td>\n      <td>0.703094</td>\n    </tr>\n    <tr>\n      <th>9</th>\n      <td>10</td>\n      <td>0.930287</td>\n      <td>0.700598</td>\n    </tr>\n    <tr>\n      <th>10</th>\n      <td>11</td>\n      <td>0.951090</td>\n      <td>0.697496</td>\n    </tr>\n    <tr>\n      <th>11</th>\n      <td>12</td>\n      <td>0.968725</td>\n      <td>0.682643</td>\n    </tr>\n    <tr>\n      <th>12</th>\n      <td>13</td>\n      <td>0.981262</td>\n      <td>0.689476</td>\n    </tr>\n    <tr>\n      <th>13</th>\n      <td>14</td>\n      <td>0.988289</td>\n      <td>0.695656</td>\n    </tr>\n    <tr>\n      <th>14</th>\n      <td>15</td>\n      <td>0.993111</td>\n      <td>0.686987</td>\n    </tr>\n    <tr>\n      <th>15</th>\n      <td>16</td>\n      <td>0.996624</td>\n      <td>0.682018</td>\n    </tr>\n    <tr>\n      <th>16</th>\n      <td>17</td>\n      <td>0.998140</td>\n      <td>0.688828</td>\n    </tr>\n    <tr>\n      <th>17</th>\n      <td>18</td>\n      <td>0.998553</td>\n      <td>0.674573</td>\n    </tr>\n    <tr>\n      <th>18</th>\n      <td>19</td>\n      <td>0.999242</td>\n      <td>0.697550</td>\n    </tr>\n    <tr>\n      <th>19</th>\n      <td>20</td>\n      <td>0.999380</td>\n      <td>0.685109</td>\n    </tr>\n    <tr>\n      <th>20</th>\n      <td>21</td>\n      <td>0.999380</td>\n      <td>0.692566</td>\n    </tr>\n    <tr>\n      <th>21</th>\n      <td>22</td>\n      <td>0.999380</td>\n      <td>0.690710</td>\n    </tr>\n    <tr>\n      <th>22</th>\n      <td>23</td>\n      <td>0.999380</td>\n      <td>0.677659</td>\n    </tr>\n    <tr>\n      <th>23</th>\n      <td>24</td>\n      <td>0.999380</td>\n      <td>0.688812</td>\n    </tr>\n    <tr>\n      <th>24</th>\n      <td>25</td>\n      <td>0.999380</td>\n      <td>0.686987</td>\n    </tr>\n  </tbody>\n</table>\n</div>"
     },
     "execution_count": 63,
     "metadata": {},
     "output_type": "execute_result"
    }
   ],
   "source": [
    "from sklearn.model_selection import cross_validate\n",
    "import numpy as np\n",
    "results_dict = {\n",
    "    \"max_depth\": [],\n",
    "    \"mean_train_score\": [],\n",
    "    \"mean_cv_score\": []\n",
    "}\n",
    "\n",
    "for depth in range(1, 26):\n",
    "    model = DecisionTreeClassifier(max_depth=depth)\n",
    "    cv_score = cross_validate(model, X_train, y_train, cv=10, return_train_score=True)\n",
    "    results_dict[\"max_depth\"].append(depth)\n",
    "    results_dict[\"mean_cv_score\"].append( np.mean(cv_score[\"test_score\"]))\n",
    "    results_dict[\"mean_train_score\"].append( np.mean(cv_score[\"train_score\"]))\n",
    "\n",
    "result_df = pd.DataFrame(results_dict)\n",
    "result_df"
   ],
   "metadata": {
    "collapsed": false
   }
  },
  {
   "cell_type": "code",
   "execution_count": 64,
   "outputs": [
    {
     "data": {
      "text/plain": "DecisionTreeClassifier(max_depth=5)",
      "text/html": "<style>#sk-container-id-6 {color: black;background-color: white;}#sk-container-id-6 pre{padding: 0;}#sk-container-id-6 div.sk-toggleable {background-color: white;}#sk-container-id-6 label.sk-toggleable__label {cursor: pointer;display: block;width: 100%;margin-bottom: 0;padding: 0.3em;box-sizing: border-box;text-align: center;}#sk-container-id-6 label.sk-toggleable__label-arrow:before {content: \"▸\";float: left;margin-right: 0.25em;color: #696969;}#sk-container-id-6 label.sk-toggleable__label-arrow:hover:before {color: black;}#sk-container-id-6 div.sk-estimator:hover label.sk-toggleable__label-arrow:before {color: black;}#sk-container-id-6 div.sk-toggleable__content {max-height: 0;max-width: 0;overflow: hidden;text-align: left;background-color: #f0f8ff;}#sk-container-id-6 div.sk-toggleable__content pre {margin: 0.2em;color: black;border-radius: 0.25em;background-color: #f0f8ff;}#sk-container-id-6 input.sk-toggleable__control:checked~div.sk-toggleable__content {max-height: 200px;max-width: 100%;overflow: auto;}#sk-container-id-6 input.sk-toggleable__control:checked~label.sk-toggleable__label-arrow:before {content: \"▾\";}#sk-container-id-6 div.sk-estimator input.sk-toggleable__control:checked~label.sk-toggleable__label {background-color: #d4ebff;}#sk-container-id-6 div.sk-label input.sk-toggleable__control:checked~label.sk-toggleable__label {background-color: #d4ebff;}#sk-container-id-6 input.sk-hidden--visually {border: 0;clip: rect(1px 1px 1px 1px);clip: rect(1px, 1px, 1px, 1px);height: 1px;margin: -1px;overflow: hidden;padding: 0;position: absolute;width: 1px;}#sk-container-id-6 div.sk-estimator {font-family: monospace;background-color: #f0f8ff;border: 1px dotted black;border-radius: 0.25em;box-sizing: border-box;margin-bottom: 0.5em;}#sk-container-id-6 div.sk-estimator:hover {background-color: #d4ebff;}#sk-container-id-6 div.sk-parallel-item::after {content: \"\";width: 100%;border-bottom: 1px solid gray;flex-grow: 1;}#sk-container-id-6 div.sk-label:hover label.sk-toggleable__label {background-color: #d4ebff;}#sk-container-id-6 div.sk-serial::before {content: \"\";position: absolute;border-left: 1px solid gray;box-sizing: border-box;top: 0;bottom: 0;left: 50%;z-index: 0;}#sk-container-id-6 div.sk-serial {display: flex;flex-direction: column;align-items: center;background-color: white;padding-right: 0.2em;padding-left: 0.2em;position: relative;}#sk-container-id-6 div.sk-item {position: relative;z-index: 1;}#sk-container-id-6 div.sk-parallel {display: flex;align-items: stretch;justify-content: center;background-color: white;position: relative;}#sk-container-id-6 div.sk-item::before, #sk-container-id-6 div.sk-parallel-item::before {content: \"\";position: absolute;border-left: 1px solid gray;box-sizing: border-box;top: 0;bottom: 0;left: 50%;z-index: -1;}#sk-container-id-6 div.sk-parallel-item {display: flex;flex-direction: column;z-index: 1;position: relative;background-color: white;}#sk-container-id-6 div.sk-parallel-item:first-child::after {align-self: flex-end;width: 50%;}#sk-container-id-6 div.sk-parallel-item:last-child::after {align-self: flex-start;width: 50%;}#sk-container-id-6 div.sk-parallel-item:only-child::after {width: 0;}#sk-container-id-6 div.sk-dashed-wrapped {border: 1px dashed gray;margin: 0 0.4em 0.5em 0.4em;box-sizing: border-box;padding-bottom: 0.4em;background-color: white;}#sk-container-id-6 div.sk-label label {font-family: monospace;font-weight: bold;display: inline-block;line-height: 1.2em;}#sk-container-id-6 div.sk-label-container {text-align: center;}#sk-container-id-6 div.sk-container {/* jupyter's `normalize.less` sets `[hidden] { display: none; }` but bootstrap.min.css set `[hidden] { display: none !important; }` so we also need the `!important` here to be able to override the default hidden behavior on the sphinx rendered scikit-learn.org. See: https://github.com/scikit-learn/scikit-learn/issues/21755 */display: inline-block !important;position: relative;}#sk-container-id-6 div.sk-text-repr-fallback {display: none;}</style><div id=\"sk-container-id-6\" class=\"sk-top-container\"><div class=\"sk-text-repr-fallback\"><pre>DecisionTreeClassifier(max_depth=5)</pre><b>In a Jupyter environment, please rerun this cell to show the HTML representation or trust the notebook. <br />On GitHub, the HTML representation is unable to render, please try loading this page with nbviewer.org.</b></div><div class=\"sk-container\" hidden><div class=\"sk-item\"><div class=\"sk-estimator sk-toggleable\"><input class=\"sk-toggleable__control sk-hidden--visually\" id=\"sk-estimator-id-6\" type=\"checkbox\" checked><label for=\"sk-estimator-id-6\" class=\"sk-toggleable__label sk-toggleable__label-arrow\">DecisionTreeClassifier</label><div class=\"sk-toggleable__content\"><pre>DecisionTreeClassifier(max_depth=5)</pre></div></div></div></div></div>"
     },
     "execution_count": 64,
     "metadata": {},
     "output_type": "execute_result"
    }
   ],
   "source": [
    "optimized_depth = result_df[result_df.mean_cv_score == result_df.mean_cv_score.max()].iloc[0,0]\n",
    "model_optimized = DecisionTreeClassifier(max_depth = optimized_depth)\n",
    "model_optimized.fit(X_train, y_train)"
   ],
   "metadata": {
    "collapsed": false
   }
  },
  {
   "cell_type": "code",
   "execution_count": 65,
   "outputs": [
    {
     "data": {
      "text/plain": "5"
     },
     "execution_count": 65,
     "metadata": {},
     "output_type": "execute_result"
    }
   ],
   "source": [
    "optimized_depth"
   ],
   "metadata": {
    "collapsed": false
   }
  },
  {
   "cell_type": "code",
   "execution_count": 66,
   "outputs": [
    {
     "data": {
      "text/plain": "0.7178217821782178"
     },
     "execution_count": 66,
     "metadata": {},
     "output_type": "execute_result"
    }
   ],
   "source": [
    "predict = model_optimized.predict(X_test)\n",
    "\n",
    "accuracy = accuracy_score(y_test, predict)\n",
    "\n",
    "accuracy"
   ],
   "metadata": {
    "collapsed": false
   }
  },
  {
   "cell_type": "code",
   "execution_count": 67,
   "outputs": [
    {
     "data": {
      "text/plain": "[Text(0.53, 0.9166666666666666, 'X[4] <= 0.0\\ngini = 0.5\\nsamples = 1613\\nvalue = [802, 811]'),\n Text(0.32, 0.75, 'X[9] <= 0.124\\ngini = 0.46\\nsamples = 782\\nvalue = [502, 280]'),\n Text(0.16, 0.5833333333333334, 'X[1] <= 0.734\\ngini = 0.384\\nsamples = 579\\nvalue = [429, 150]'),\n Text(0.08, 0.4166666666666667, 'X[2] <= 163780.0\\ngini = 0.324\\nsamples = 448\\nvalue = [357, 91]'),\n Text(0.04, 0.25, 'X[5] <= 6.5\\ngini = 0.48\\nsamples = 30\\nvalue = [12, 18]'),\n Text(0.02, 0.08333333333333333, 'gini = 0.469\\nsamples = 16\\nvalue = [10, 6]'),\n Text(0.06, 0.08333333333333333, 'gini = 0.245\\nsamples = 14\\nvalue = [2, 12]'),\n Text(0.12, 0.25, 'X[9] <= 0.043\\ngini = 0.288\\nsamples = 418\\nvalue = [345, 73]'),\n Text(0.1, 0.08333333333333333, 'gini = 0.193\\nsamples = 212\\nvalue = [189, 23]'),\n Text(0.14, 0.08333333333333333, 'gini = 0.368\\nsamples = 206\\nvalue = [156, 50]'),\n Text(0.24, 0.4166666666666667, 'X[12] <= 0.449\\ngini = 0.495\\nsamples = 131\\nvalue = [72, 59]'),\n Text(0.2, 0.25, 'X[2] <= 193728.5\\ngini = 0.32\\nsamples = 35\\nvalue = [7, 28]'),\n Text(0.18, 0.08333333333333333, 'gini = 0.0\\nsamples = 4\\nvalue = [4, 0]'),\n Text(0.22, 0.08333333333333333, 'gini = 0.175\\nsamples = 31\\nvalue = [3, 28]'),\n Text(0.28, 0.25, 'X[10] <= 135.015\\ngini = 0.437\\nsamples = 96\\nvalue = [65, 31]'),\n Text(0.26, 0.08333333333333333, 'gini = 0.375\\nsamples = 84\\nvalue = [63, 21]'),\n Text(0.3, 0.08333333333333333, 'gini = 0.278\\nsamples = 12\\nvalue = [2, 10]'),\n Text(0.48, 0.5833333333333334, 'X[1] <= 0.718\\ngini = 0.461\\nsamples = 203\\nvalue = [73, 130]'),\n Text(0.4, 0.4166666666666667, 'X[0] <= 0.012\\ngini = 0.499\\nsamples = 117\\nvalue = [61, 56]'),\n Text(0.36, 0.25, 'X[6] <= 0.542\\ngini = 0.198\\nsamples = 18\\nvalue = [16, 2]'),\n Text(0.34, 0.08333333333333333, 'gini = 0.0\\nsamples = 15\\nvalue = [15, 0]'),\n Text(0.38, 0.08333333333333333, 'gini = 0.444\\nsamples = 3\\nvalue = [1, 2]'),\n Text(0.44, 0.25, 'X[7] <= -6.587\\ngini = 0.496\\nsamples = 99\\nvalue = [45, 54]'),\n Text(0.42, 0.08333333333333333, 'gini = 0.382\\nsamples = 35\\nvalue = [9, 26]'),\n Text(0.46, 0.08333333333333333, 'gini = 0.492\\nsamples = 64\\nvalue = [36, 28]'),\n Text(0.56, 0.4166666666666667, 'X[12] <= 0.855\\ngini = 0.24\\nsamples = 86\\nvalue = [12, 74]'),\n Text(0.52, 0.25, 'X[0] <= 0.719\\ngini = 0.162\\nsamples = 79\\nvalue = [7, 72]'),\n Text(0.5, 0.08333333333333333, 'gini = 0.142\\nsamples = 78\\nvalue = [6, 72]'),\n Text(0.54, 0.08333333333333333, 'gini = 0.0\\nsamples = 1\\nvalue = [1, 0]'),\n Text(0.6, 0.25, 'X[0] <= 0.565\\ngini = 0.408\\nsamples = 7\\nvalue = [5, 2]'),\n Text(0.58, 0.08333333333333333, 'gini = 0.278\\nsamples = 6\\nvalue = [5, 1]'),\n Text(0.62, 0.08333333333333333, 'gini = 0.0\\nsamples = 1\\nvalue = [0, 1]'),\n Text(0.74, 0.75, 'X[3] <= 0.212\\ngini = 0.461\\nsamples = 831\\nvalue = [300, 531]'),\n Text(0.64, 0.5833333333333334, 'X[4] <= 0.001\\ngini = 0.075\\nsamples = 51\\nvalue = [49, 2]'),\n Text(0.62, 0.4166666666666667, 'gini = 0.0\\nsamples = 1\\nvalue = [0, 1]'),\n Text(0.66, 0.4166666666666667, 'X[1] <= 0.15\\ngini = 0.039\\nsamples = 50\\nvalue = [49, 1]'),\n Text(0.64, 0.25, 'gini = 0.0\\nsamples = 1\\nvalue = [0, 1]'),\n Text(0.68, 0.25, 'gini = 0.0\\nsamples = 49\\nvalue = [49, 0]'),\n Text(0.84, 0.5833333333333334, 'X[7] <= -5.023\\ngini = 0.436\\nsamples = 780\\nvalue = [251, 529]'),\n Text(0.76, 0.4166666666666667, 'X[4] <= 0.006\\ngini = 0.352\\nsamples = 587\\nvalue = [134, 453]'),\n Text(0.72, 0.25, 'X[9] <= 0.036\\ngini = 0.457\\nsamples = 192\\nvalue = [68, 124]'),\n Text(0.7, 0.08333333333333333, 'gini = 0.491\\nsamples = 46\\nvalue = [26, 20]'),\n Text(0.74, 0.08333333333333333, 'gini = 0.41\\nsamples = 146\\nvalue = [42, 104]'),\n Text(0.8, 0.25, 'X[0] <= 0.857\\ngini = 0.278\\nsamples = 395\\nvalue = [66, 329]'),\n Text(0.78, 0.08333333333333333, 'gini = 0.25\\nsamples = 375\\nvalue = [55, 320]'),\n Text(0.82, 0.08333333333333333, 'gini = 0.495\\nsamples = 20\\nvalue = [11, 9]'),\n Text(0.92, 0.4166666666666667, 'X[12] <= 0.281\\ngini = 0.477\\nsamples = 193\\nvalue = [117, 76]'),\n Text(0.88, 0.25, 'X[7] <= -4.667\\ngini = 0.255\\nsamples = 60\\nvalue = [51, 9]'),\n Text(0.86, 0.08333333333333333, 'gini = 0.5\\nsamples = 12\\nvalue = [6, 6]'),\n Text(0.9, 0.08333333333333333, 'gini = 0.117\\nsamples = 48\\nvalue = [45, 3]'),\n Text(0.96, 0.25, 'X[4] <= 0.206\\ngini = 0.5\\nsamples = 133\\nvalue = [66, 67]'),\n Text(0.94, 0.08333333333333333, 'gini = 0.483\\nsamples = 103\\nvalue = [61, 42]'),\n Text(0.98, 0.08333333333333333, 'gini = 0.278\\nsamples = 30\\nvalue = [5, 25]')]"
     },
     "execution_count": 67,
     "metadata": {},
     "output_type": "execute_result"
    },
    {
     "data": {
      "text/plain": "<Figure size 640x480 with 1 Axes>",
      "image/png": "[encoded data removed]"
     },
     "metadata": {},
     "output_type": "display_data"
    }
   ],
   "source": [
    "from sklearn import tree\n",
    "tree.plot_tree(model_optimized)"
   ],
   "metadata": {
    "collapsed": false
   }
  },
  {
   "cell_type": "markdown",
   "source": [
    "In reality most classifiers will never have 100% accuracy. And indeed in our case it doesn't reach a 100% accuracy. This is just a quick demo to show you the Step 5 where further improvements on the model can be done using Hyperparameter tuning."
   ],
   "metadata": {
    "collapsed": false
   }
  },
  {
   "cell_type": "markdown",
   "id": "5e6a7daf-a3f7-42ba-af01-add4d1c0a9e4",
   "metadata": {
    "slideshow": {
     "slide_type": "slide"
    }
   },
   "source": [
    "### Exercis for you: Let's Dive into Some Python Codes Now"
   ]
  },
  {
   "cell_type": "markdown",
   "id": "ca8c6266-644d-4d20-85c9-84e4dd0fdc3c",
   "metadata": {
    "slideshow": {
     "slide_type": "fragment"
    }
   },
   "source": [
    "Now we are building a model on the iris flower dataset. Start by importing the datasets library from `sklearn`, and load the iris data set."
   ]
  },
  {
   "cell_type": "code",
   "execution_count": 68,
   "id": "eaefd785-814d-44ba-8301-53f1e53d7e93",
   "metadata": {
    "slideshow": {
     "slide_type": "fragment"
    }
   },
   "outputs": [
    {
     "data": {
      "text/plain": "   sepal_length  sepal_width  petal_length  petal_width  species\n0           5.1          3.5           1.4          0.2        0\n1           4.9          3.0           1.4          0.2        0\n2           4.7          3.2           1.3          0.2        0\n3           4.6          3.1           1.5          0.2        0\n4           5.0          3.6           1.4          0.2        0",
      "text/html": "<div>\n<style scoped>\n    .dataframe tbody tr th:only-of-type {\n        vertical-align: middle;\n    }\n\n    .dataframe tbody tr th {\n        vertical-align: top;\n    }\n\n    .dataframe thead th {\n        text-align: right;\n    }\n</style>\n<table border=\"1\" class=\"dataframe\">\n  <thead>\n    <tr style=\"text-align: right;\">\n      <th></th>\n      <th>sepal_length</th>\n      <th>sepal_width</th>\n      <th>petal_length</th>\n      <th>petal_width</th>\n      <th>species</th>\n    </tr>\n  </thead>\n  <tbody>\n    <tr>\n      <th>0</th>\n      <td>5.1</td>\n      <td>3.5</td>\n      <td>1.4</td>\n      <td>0.2</td>\n      <td>0</td>\n    </tr>\n    <tr>\n      <th>1</th>\n      <td>4.9</td>\n      <td>3.0</td>\n      <td>1.4</td>\n      <td>0.2</td>\n      <td>0</td>\n    </tr>\n    <tr>\n      <th>2</th>\n      <td>4.7</td>\n      <td>3.2</td>\n      <td>1.3</td>\n      <td>0.2</td>\n      <td>0</td>\n    </tr>\n    <tr>\n      <th>3</th>\n      <td>4.6</td>\n      <td>3.1</td>\n      <td>1.5</td>\n      <td>0.2</td>\n      <td>0</td>\n    </tr>\n    <tr>\n      <th>4</th>\n      <td>5.0</td>\n      <td>3.6</td>\n      <td>1.4</td>\n      <td>0.2</td>\n      <td>0</td>\n    </tr>\n  </tbody>\n</table>\n</div>"
     },
     "execution_count": 68,
     "metadata": {},
     "output_type": "execute_result"
    }
   ],
   "source": [
    "#Load dataset + create a dataframe of this iris dataset. (you can ignore this step)\n",
    "iris =  datasets.load_iris()\n",
    "data = pd.DataFrame({\n",
    "    'sepal_length': iris.data[:,0],\n",
    "    'sepal_width': iris.data[:,1],\n",
    "    'petal_length': iris.data[:,2],\n",
    "    'petal_width': iris.data[:,3],\n",
    "    'species': iris.target\n",
    "})\n",
    "\n",
    "data.head(5)"
   ]
  },
  {
   "cell_type": "markdown",
   "source": [
    "Let's print the target and feature variable names just to make sure that we are using the right dataset"
   ],
   "metadata": {
    "collapsed": false
   }
  },
  {
   "cell_type": "code",
   "execution_count": 69,
   "outputs": [
    {
     "name": "stdout",
     "output_type": "stream",
     "text": [
      "['setosa' 'versicolor' 'virginica']\n",
      "['sepal length (cm)', 'sepal width (cm)', 'petal length (cm)', 'petal width (cm)']\n"
     ]
    }
   ],
   "source": [
    "print(iris.target_names)\n",
    "print(iris.feature_names)"
   ],
   "metadata": {
    "collapsed": false
   }
  },
  {
   "cell_type": "markdown",
   "source": [
    "### Now Please complete the `#TODO`s:"
   ],
   "metadata": {
    "collapsed": false
   }
  },
  {
   "cell_type": "markdown",
   "source": [
    "We use the `train_test_split` function to split variables into train and test set (Let's take 75% to training and 25% to testing), and train the model on the train set and perform predictions on the test set."
   ],
   "metadata": {
    "collapsed": false
   }
  },
  {
   "cell_type": "code",
   "execution_count": 70,
   "outputs": [],
   "source": [
    "train_df, test_df = train_test_split(data, test_size = 0.25)"
   ],
   "metadata": {
    "collapsed": false
   }
  },
  {
   "cell_type": "markdown",
   "source": [
    "Since the species of iris flower is what we are interested in classifying, we first separate columns accordingly into dependent and independent variables.\n",
    "Steps as follow:"
   ],
   "metadata": {
    "collapsed": false
   }
  },
  {
   "cell_type": "code",
   "execution_count": 71,
   "outputs": [],
   "source": [
    "# Seperate cols to dependent and independent variables\n",
    "X_train, y_train = train_df.drop(columns=[\"species\"]), train_df[\"species\"]\n",
    "X_test, y_test = test_df.drop(columns=[\"species\"]), test_df[\"species\"]"
   ],
   "metadata": {
    "collapsed": false
   }
  },
  {
   "cell_type": "code",
   "execution_count": 72,
   "outputs": [],
   "source": [
    "# create the classifier\n",
    "model = DecisionTreeClassifier()\n",
    "model.fit(X_train, y_train)\n",
    "# make the prediction using the Decision Tree model\n",
    "y_pred = model.predict(X_test)"
   ],
   "metadata": {
    "collapsed": false
   }
  },
  {
   "cell_type": "markdown",
   "id": "607d69e7-c521-40c5-a07b-9e50639eeb1e",
   "metadata": {
    "slideshow": {
     "slide_type": "slide"
    }
   },
   "source": [
    "We now examine the Decision tree model's accuracy using the actual y (species) value and the predicted values given by the model."
   ]
  },
  {
   "cell_type": "code",
   "execution_count": 73,
   "id": "29548437-e06b-45e2-ba51-ec4baf5712f8",
   "metadata": {
    "slideshow": {
     "slide_type": "fragment"
    }
   },
   "outputs": [
    {
     "name": "stdout",
     "output_type": "stream",
     "text": [
      "The accuracy for Decision Tree model is:  0.9737\n"
     ]
    }
   ],
   "source": [
    "print(\"The accuracy for Decision Tree model is: \", round(accuracy_score(y_test, y_pred),4))"
   ]
  },
  {
   "cell_type": "markdown",
   "id": "74913b2a-c29e-4823-9f18-854e9fd58c23",
   "metadata": {
    "slideshow": {
     "slide_type": "slide"
    }
   },
   "source": [
    "And we say the accuracy is pretty high for such model! To make a prediction on a single observation, we can also use the `predict()` function.\n",
    "For example:  \n",
    "    - sepal length = 3  \n",
    "    - sepal width = 6  \n",
    "    - petal length = 6  \n",
    "    - petal width = 4  \n",
    "Now we can predict which type of the iris flower it is as below."
   ]
  },
  {
   "cell_type": "code",
   "execution_count": 74,
   "id": "ecc6e926-ebcc-493a-aa93-f16171772754",
   "metadata": {
    "slideshow": {
     "slide_type": "fragment"
    }
   },
   "outputs": [
    {
     "name": "stderr",
     "output_type": "stream",
     "text": [
      "/opt/miniconda3/lib/python3.9/site-packages/sklearn/base.py:450: UserWarning: X does not have valid feature names, but DecisionTreeClassifier was fitted with feature names\n",
      "  warnings.warn(\n"
     ]
    },
    {
     "data": {
      "text/plain": "array([2])"
     },
     "execution_count": 74,
     "metadata": {},
     "output_type": "execute_result"
    }
   ],
   "source": [
    "model.predict([[3,6,6,4]])"
   ]
  },
  {
   "cell_type": "markdown",
   "id": "00e00eac-b901-431c-acc1-f5482c7eb212",
   "metadata": {
    "slideshow": {
     "slide_type": "fragment"
    }
   },
   "source": [
    "Here, the output is 2, which indicates an iris type of Virginica."
   ]
  },
  {
   "cell_type": "code",
   "execution_count": 75,
   "outputs": [
    {
     "data": {
      "text/plain": "[Text(0.36363636363636365, 0.9285714285714286, 'X[3] <= 0.8\\ngini = 0.665\\nsamples = 112\\nvalue = [36, 35, 41]'),\n Text(0.2727272727272727, 0.7857142857142857, 'gini = 0.0\\nsamples = 36\\nvalue = [36, 0, 0]'),\n Text(0.45454545454545453, 0.7857142857142857, 'X[2] <= 4.85\\ngini = 0.497\\nsamples = 76\\nvalue = [0, 35, 41]'),\n Text(0.18181818181818182, 0.6428571428571429, 'X[3] <= 1.65\\ngini = 0.111\\nsamples = 34\\nvalue = [0, 32, 2]'),\n Text(0.09090909090909091, 0.5, 'gini = 0.0\\nsamples = 31\\nvalue = [0, 31, 0]'),\n Text(0.2727272727272727, 0.5, 'X[1] <= 3.0\\ngini = 0.444\\nsamples = 3\\nvalue = [0, 1, 2]'),\n Text(0.18181818181818182, 0.35714285714285715, 'gini = 0.0\\nsamples = 2\\nvalue = [0, 0, 2]'),\n Text(0.36363636363636365, 0.35714285714285715, 'gini = 0.0\\nsamples = 1\\nvalue = [0, 1, 0]'),\n Text(0.7272727272727273, 0.6428571428571429, 'X[3] <= 1.75\\ngini = 0.133\\nsamples = 42\\nvalue = [0, 3, 39]'),\n Text(0.6363636363636364, 0.5, 'X[1] <= 2.65\\ngini = 0.49\\nsamples = 7\\nvalue = [0, 3, 4]'),\n Text(0.5454545454545454, 0.35714285714285715, 'gini = 0.0\\nsamples = 2\\nvalue = [0, 0, 2]'),\n Text(0.7272727272727273, 0.35714285714285715, 'X[2] <= 5.05\\ngini = 0.48\\nsamples = 5\\nvalue = [0, 3, 2]'),\n Text(0.6363636363636364, 0.21428571428571427, 'gini = 0.0\\nsamples = 2\\nvalue = [0, 2, 0]'),\n Text(0.8181818181818182, 0.21428571428571427, 'X[1] <= 2.75\\ngini = 0.444\\nsamples = 3\\nvalue = [0, 1, 2]'),\n Text(0.7272727272727273, 0.07142857142857142, 'gini = 0.0\\nsamples = 1\\nvalue = [0, 1, 0]'),\n Text(0.9090909090909091, 0.07142857142857142, 'gini = 0.0\\nsamples = 2\\nvalue = [0, 0, 2]'),\n Text(0.8181818181818182, 0.5, 'gini = 0.0\\nsamples = 35\\nvalue = [0, 0, 35]')]"
     },
     "execution_count": 75,
     "metadata": {},
     "output_type": "execute_result"
    },
    {
     "data": {
      "text/plain": "<Figure size 640x480 with 1 Axes>",
      "image/png": "[encoded data removed]"
     },
     "metadata": {},
     "output_type": "display_data"
    }
   ],
   "source": [
    "from sklearn import tree\n",
    "tree.plot_tree(model)"
   ],
   "metadata": {
    "collapsed": false
   }
  },
  {
   "cell_type": "markdown",
   "id": "94c3e69b-fb31-4e31-bebc-1720d4507699",
   "metadata": {
    "slideshow": {
     "slide_type": "slide"
    }
   },
   "source": [
    "<div>\n",
    "<img src=\"survey.jpg\" width=\"500\"/>\n",
    "</div>\n",
    "Congratulation! You have made it so far and know what a typical Decision Tree classifier in python looks like. Please spend a minute to fill out this post workshop survey. Your feedback means a lot to us."
   ]
  },
  {
   "cell_type": "markdown",
   "source": [
    "### references\n",
    "https://www.youtube.com/watch?v=7eh4d6sabA0&ab_channel=ProgrammingwithMosh\n",
    "https://github.com/hmartin11/USS_ML_Workshop\n",
    "https://www.edureka.co/blog/decision-trees/\n",
    "\n"
   ],
   "metadata": {
    "collapsed": false
   }
  },
  {
   "cell_type": "code",
   "execution_count": 75,
   "outputs": [],
   "source": [],
   "metadata": {
    "collapsed": false
   }
  }
 ],
 "metadata": {
  "celltoolbar": "Slideshow",
  "kernelspec": {
   "name": "python3",
   "language": "python",
   "display_name": "Python 3 (ipykernel)"
  },
  "language_info": {
   "codemirror_mode": {
    "name": "ipython",
    "version": 3
   },
   "file_extension": ".py",
   "mimetype": "text/x-python",
   "name": "python",
   "nbconvert_exporter": "python",
   "pygments_lexer": "ipython3",
   "version": "3.10.4"
  }
 },
 "nbformat": 4,
 "nbformat_minor": 5
}
